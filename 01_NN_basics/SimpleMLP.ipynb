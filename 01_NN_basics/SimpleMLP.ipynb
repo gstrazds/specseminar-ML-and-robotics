{
 "cells": [
  {
   "cell_type": "markdown",
   "metadata": {},
   "source": [
    "# A very simple Neural Network in plain NumPy\n",
    "---"
   ]
  },
  {
   "cell_type": "markdown",
   "metadata": {},
   "source": [
    "***A stripped down version of 'Numpy deep neural network.ipynb'***\n",
    "\n",
    "***Original author: Piotr Skalski***  \n",
    "https://github.com/SkalskiP/ILearnDeepLearning.py.git\n",
    "\n",
    "This is a minimal example of a fully operational neural network using only NumPy."
   ]
  },
  {
   "cell_type": "markdown",
   "metadata": {},
   "source": [
    "## Imports"
   ]
  },
  {
   "cell_type": "code",
   "execution_count": 1,
   "metadata": {},
   "outputs": [],
   "source": [
    "import numpy as np\n",
    "from IPython.display import Image"
   ]
  },
  {
   "cell_type": "markdown",
   "metadata": {},
   "source": [
    "## Initialization of neural network layers"
   ]
  },
  {
   "cell_type": "markdown",
   "metadata": {},
   "source": [
    "A small datastructure describing our NN architecture. Each item in the list is a dictionary describing the basic parameters of a single network layer: input_dim = the size of the vector of values input to the layer, output_dim = the size of the activation vector obtained at the output of the layer, and activation = the activation function used inside the layer."
   ]
  },
  {
   "cell_type": "code",
   "execution_count": 2,
   "metadata": {},
   "outputs": [],
   "source": [
    "NN_ARCHITECTURE = [\n",
    "    {\"input_dim\": 2, \"output_dim\": 2, \"activation\": \"sigmoid\"}, # [X1, X2] -> [H1, H2]\n",
    "    {\"input_dim\": 2, \"output_dim\": 1, \"activation\": \"sigmoid\"}, # [H1, H2] -> Y\n",
    "]"
   ]
  },
  {
   "cell_type": "markdown",
   "metadata": {},
   "source": [
    "## Initialization of parameter values for each layer"
   ]
  },
  {
   "cell_type": "markdown",
   "metadata": {},
   "source": [
    "The initial neural network weights shouldn't all be equal. By initializing the weights to random values, we ensure that each neuron will respond differently to a given input. If all neurons respond identically, and thus their contributions to the activation of downstream neurons are all equal, it can be difficult for the training process to break out of this symmetric state, since backpropagated updates based on their contributions will also be equal.\n",
    "\n",
    "The use of small values increases the efficiency of the backprop algorithm during early iterations. From the graph of the sigmoid function, shown in Figure 4, we can see that its derivative gives higher value for numbers close to zero, which has a significant effect on the speed of learning of our NN. Parameter initiation using small random numbers is a simple approach, but it provides a good enough starting point for our algorithm.\n",
    "\n",
    "Prepared parameters values are stored in a python dictionary with a key that identifies the layer to which they belong."
   ]
  },
  {
   "cell_type": "code",
   "execution_count": 3,
   "metadata": {},
   "outputs": [],
   "source": [
    "def init_layers(nn_architecture, seed = 99):\n",
    "    # random seed initiation\n",
    "    np.random.seed(seed)\n",
    "    # number of layers in our neural network\n",
    "    number_of_layers = len(nn_architecture)\n",
    "    # parameters storage initiation\n",
    "    params_values = {}\n",
    "    \n",
    "    # iteration over network layers\n",
    "    for idx, layer in enumerate(nn_architecture):\n",
    "        # we number network layers from 1\n",
    "        layer_idx = idx + 1\n",
    "        \n",
    "        # extracting the number of units in layers\n",
    "        layer_input_size = layer[\"input_dim\"]\n",
    "        layer_output_size = layer[\"output_dim\"]\n",
    "        \n",
    "        # initiating the values of the W matrix\n",
    "        # and vector b for subsequent layers\n",
    "        params_values['W' + str(layer_idx)] = np.random.randn(\n",
    "            layer_output_size, layer_input_size) * 0.1\n",
    "        params_values['b' + str(layer_idx)] = np.random.randn(\n",
    "            layer_output_size, 1) * 0.0   # 0.1\n",
    "        \n",
    "\n",
    "    print(\"initial param values =\", params_values)\n",
    "    return params_values\n"
   ]
  },
  {
   "cell_type": "markdown",
   "metadata": {},
   "source": [
    "## Activation functions"
   ]
  },
  {
   "cell_type": "markdown",
   "metadata": {},
   "source": [
    "Among all the activation functions in use today, there are several very commonly used, simple but powerful ones. Activation functions can often be written in a single line of code, but they give neural nets non-linearity, and thus the representation and learning power that they need. \"Without them, our neural network would become a combination of linear functions, so it would be just a linear function itself.\" There are many activation functions, but here we provide the possibility of using two of them: sigmoid and ReLU. \n",
    "\n",
    "We also need to be able to calculate their derivatives for the backpropagation portion of the learning algorithm. For a derivation of the derivative of the sigmoid function, see: https://towardsdatascience.com/derivative-of-the-sigmoid-function-536880cf918e"
   ]
  },
  {
   "cell_type": "markdown",
   "metadata": {},
   "source": [
    "![Activations](./supporting_visualizations/activations.gif)\n",
    "\n",
    "<b>Figure 4.</b> Activation functions used in the algorithm."
   ]
  },
  {
   "cell_type": "code",
   "execution_count": 4,
   "metadata": {},
   "outputs": [],
   "source": [
    "def sigmoid(Z):\n",
    "    return 1/(1+np.exp(-Z))\n",
    "\n",
    "def relu(Z):\n",
    "    return np.maximum(0,Z)\n",
    "\n",
    "def sigmoid_backward(dA, Z):\n",
    "    sig = sigmoid(Z)\n",
    "    return dA * sig * (1 - sig)\n",
    "\n",
    "def relu_backward(dA, Z):\n",
    "    dZ = np.array(dA, copy = True)\n",
    "    dZ[Z <= 0] = 0;\n",
    "    return dZ;"
   ]
  },
  {
   "cell_type": "markdown",
   "metadata": {},
   "source": [
    "## Single layer forward propagation step"
   ]
  },
  {
   "cell_type": "markdown",
   "metadata": {},
   "source": [
    "Given the input vector from the previous layer, we compute an affine transformation Z and then apply the selected activation function. In NumPy we can leverage vectorization - performing matrix operations for entire layers and a whole batch of examples at once. This eliminates iteration and significantly speeds up the calculations. In addition to the calculated matrix A, our function also returns an intermediate value of Z, which will be needed during the backpropagation step."
   ]
  },
  {
   "cell_type": "markdown",
   "metadata": {},
   "source": [
    "$$\\boldsymbol{Z}^{[l]} = \\boldsymbol{W}^{[l]} \\cdot \\boldsymbol{A}^{[l-1]} + \\boldsymbol{b}^{[l]}$$"
   ]
  },
  {
   "cell_type": "markdown",
   "metadata": {},
   "source": [
    "$$\\boldsymbol{A}^{[l]} = g^{[l]}(\\boldsymbol{Z}^{[l]})$$"
   ]
  },
  {
   "cell_type": "code",
   "execution_count": 5,
   "metadata": {},
   "outputs": [],
   "source": [
    "def single_layer_forward_propagation(A_prev, W_curr, b_curr, activation=\"relu\"):\n",
    "    # calculation of the input value for the activation function\n",
    "    Z_curr = np.dot(W_curr, A_prev) + b_curr\n",
    "    \n",
    "    # selection of activation function\n",
    "    if activation is \"relu\":\n",
    "        activation_func = relu\n",
    "    elif activation is \"sigmoid\":\n",
    "        activation_func = sigmoid\n",
    "    else:\n",
    "        raise Exception('Non-supported activation function')\n",
    "        \n",
    "    # return of calculated activation A and the intermediate Z matrix\n",
    "    return activation_func(Z_curr), Z_curr"
   ]
  },
  {
   "cell_type": "markdown",
   "metadata": {},
   "source": [
    "![Matrix sizes 2](./supporting_visualizations/matrix_sizes_2.png)"
   ]
  },
  {
   "cell_type": "markdown",
   "metadata": {},
   "source": [
    "## Full forward propagation"
   ]
  },
  {
   "cell_type": "markdown",
   "metadata": {},
   "source": [
    "With the single_layer_forward_propagation function completed, we can easily build a whole step forward. This is a slightly more complex function, which not only calculates predictions but also organizes and caches a data structure of intermediate values."
   ]
  },
  {
   "cell_type": "code",
   "execution_count": 6,
   "metadata": {},
   "outputs": [],
   "source": [
    "def full_forward_propagation(X, params_values, nn_architecture):\n",
    "    # creating a temporary memory to store the information needed for a backward step\n",
    "    memory = {}\n",
    "    # X vector is the activation for layer 0 \n",
    "    A_curr = X\n",
    "    \n",
    "    # iteration over network layers\n",
    "    for idx, layer in enumerate(nn_architecture):\n",
    "        # we number network layers from 1\n",
    "        layer_idx = idx + 1\n",
    "        # transfer the activation from the previous iteration\n",
    "        A_prev = A_curr\n",
    "        \n",
    "        # extraction of the activation function for the current layer\n",
    "        activ_function_curr = layer[\"activation\"]\n",
    "        # extraction of W for the current layer\n",
    "        W_curr = params_values[\"W\" + str(layer_idx)]\n",
    "        # extraction of b for the current layer\n",
    "        b_curr = params_values[\"b\" + str(layer_idx)]\n",
    "        # calculation of activation for the current layer\n",
    "        A_curr, Z_curr = single_layer_forward_propagation(A_prev, W_curr, b_curr, activ_function_curr)\n",
    "        \n",
    "        # saving calculated values in the memory\n",
    "        memory[\"A\" + str(idx)] = A_prev\n",
    "        memory[\"Z\" + str(layer_idx)] = Z_curr\n",
    "       \n",
    "    # return prediction vector and a dictionary containing intermediate values\n",
    "    return A_curr, memory"
   ]
  },
  {
   "cell_type": "markdown",
   "metadata": {},
   "source": [
    "## Calculating cost"
   ]
  },
  {
   "cell_type": "markdown",
   "metadata": {},
   "source": [
    "In order to monitor our progress and make sure that we are moving in the desired direction, we calculate the value of the loss function. \"Generally speaking, the loss function is designed to show how far we are from the 'ideal' solution.\" It's selected or designed according to the problem we plan to solve, and frameworks such as Keras have many options to choose from. Here we use binary crossentropy, which is appropriate for a classification problem with 2 output classes. Binary crossentropy is defined by the following formulas. To give us more information on how well our neural network is solving the task, we also implement a function that will calculate accuracy.\n",
    "\n",
    "![Cost Function](./supporting_visualizations/cost_function.gif)"
   ]
  },
  {
   "cell_type": "code",
   "execution_count": 32,
   "metadata": {},
   "outputs": [],
   "source": [
    "def get_cost_value(Y_hat, Y):\n",
    "    # number of examples\n",
    "    m = Y_hat.shape[1]\n",
    "    # calculation of the cost according to the formula\n",
    "    cost = -1 / m * (np.dot(Y, np.log(Y_hat).T) + np.dot(1 - Y, np.log(1 - Y_hat).T))\n",
    "    return np.squeeze(cost)"
   ]
  },
  {
   "cell_type": "markdown",
   "metadata": {},
   "source": [
    "## Calculating accuracy"
   ]
  },
  {
   "cell_type": "code",
   "execution_count": 8,
   "metadata": {},
   "outputs": [],
   "source": [
    "# an auxiliary function that converts probability into class\n",
    "def convert_prob_into_class(probs):\n",
    "    probs_ = np.copy(probs)\n",
    "    probs_[probs_ > 0.5] = 1\n",
    "    probs_[probs_ <= 0.5] = 0\n",
    "    return probs_"
   ]
  },
  {
   "cell_type": "code",
   "execution_count": 9,
   "metadata": {},
   "outputs": [],
   "source": [
    "def get_accuracy_value(Y_hat, Y):\n",
    "    Y_hat_ = convert_prob_into_class(Y_hat)\n",
    "    return (Y_hat_ == Y).all(axis=0).mean()"
   ]
  },
  {
   "cell_type": "markdown",
   "metadata": {},
   "source": [
    "## Single layer backward propagation step"
   ]
  },
  {
   "cell_type": "markdown",
   "metadata": {},
   "source": [
    "People often confuse backward propagation with gradient descent, but in fact these are two separate matters. The purpose of the first is to calculate the gradient effectively, whereas the second uses the calculated gradient to optimize the neural network weights. In NNs, we calculate the gradient of the cost function (discussed earlier) with respect to NN parameters (weights & biases), but backpropagation can be used to calculate derivatives of any function. The essence of this algorithm is the recursive use of the chain rule from differential calculus - for calculating the derivative of a function created by composing other functions whose derivatives we already know. This process - for one network layer - is described by the following formulas. \n",
    "\n",
    "Looking at the formulas, it becomes clear why we want to remember the values of the A and Z matrices for intermediate layers in the forward step.\n",
    "\n",
    "$$\\boldsymbol{dW}^{[l]} = \\frac{\\partial L }{\\partial \\boldsymbol{W}^{[l]}} = \\frac{1}{m} \\boldsymbol{dZ}^{[l]} \\boldsymbol{A}^{[l-1] T}$$\n",
    "\n",
    "$$\\boldsymbol{db}^{[l]} = \\frac{\\partial L }{\\partial \\boldsymbol{b}^{[l]}} = \\frac{1}{m} \\sum_{i = 1}^{m} \\boldsymbol{dZ}^{[l](i)}$$\n",
    "\n",
    "$$\\boldsymbol{dA}^{[l-1]} = \\frac{\\partial L }{\\partial \\boldsymbol{A}^{[l-1]}} = \\boldsymbol{W}^{[l] T} \\boldsymbol{dZ}^{[l]}$$\n",
    "\n",
    "$$\\boldsymbol{dZ}^{[l]} = \\boldsymbol{dA}^{[l]} * g'(\\boldsymbol{Z}^{[l]})$$\n",
    "\n"
   ]
  },
  {
   "cell_type": "code",
   "execution_count": 10,
   "metadata": {},
   "outputs": [],
   "source": [
    "def single_layer_backward_propagation(dA_curr, W_curr, b_curr, Z_curr, A_prev, activation=\"relu\"):\n",
    "    # number of examples\n",
    "    m = A_prev.shape[1]\n",
    "    \n",
    "    # selection of activation function\n",
    "    if activation is \"relu\":\n",
    "        backward_activation_func = relu_backward\n",
    "    elif activation is \"sigmoid\":\n",
    "        backward_activation_func = sigmoid_backward\n",
    "    else:\n",
    "        raise Exception('Non-supported activation function')\n",
    "    \n",
    "    # calculation of the activation function derivative\n",
    "    dZ_curr = backward_activation_func(dA_curr, Z_curr)\n",
    "    \n",
    "    # derivative of the matrix W\n",
    "    dW_curr = np.dot(dZ_curr, A_prev.T) / m\n",
    "    # derivative of the vector b\n",
    "    db_curr = np.sum(dZ_curr, axis=1, keepdims=True) / m\n",
    "    # derivative of the matrix A_prev\n",
    "    dA_prev = np.dot(W_curr.T, dZ_curr)\n",
    "\n",
    "    return dA_prev, dW_curr, db_curr"
   ]
  },
  {
   "cell_type": "markdown",
   "metadata": {},
   "source": [
    "## Full backward propagation"
   ]
  },
  {
   "cell_type": "markdown",
   "metadata": {},
   "source": [
    "Just like in the case of forward propagation, here we have split the calculations into two separate functions. The first one (single_layer_backward_propatation) focuses on a single layer and boils down to rewriting chain-rule formulas in NumPy. The second one, the full backward propagation algorithm, deals primarily with key juggling to read and update values in three dictionaries. We start by calculating a derivative of the cost function with respect to the prediction vector - which we obtained using forward propagation. This is quite trivial as it only consists of implementing the following formula. Then we iterate backwards through the layers of the network (starting from the last) and calculate the derivatives with respect to all trainable parameters in the network. Ultimately, function returns a python dictionary containing the gradient we are looking for.\n",
    "\n",
    "$$\\frac{\\partial L }{\\partial \\boldsymbol{\\hat{Y}}} = -(\\frac{\\boldsymbol{Y}}{\\boldsymbol{\\hat{Y}}}- \\frac{1-\\boldsymbol{Y}}{1-\\boldsymbol{\\hat{Y}}})$$"
   ]
  },
  {
   "cell_type": "code",
   "execution_count": 11,
   "metadata": {},
   "outputs": [],
   "source": [
    "def full_backward_propagation(Y_hat, Y, memory, params_values, nn_architecture):\n",
    "    grads_values = {}\n",
    "    \n",
    "    # number of examples\n",
    "    m = Y.shape[1]\n",
    "    # a hack ensuring the same shape of the prediction vector and labels vector\n",
    "    Y = Y.reshape(Y_hat.shape)\n",
    "    #print(f\"Y.shape={Y.shape}, Y_hat.shape={Y_hat.shape}\")\n",
    "    \n",
    "    # initiation of gradient descent algorithm\n",
    "    dA_prev = - (np.divide(Y, Y_hat) - np.divide(1 - Y, 1 - Y_hat));\n",
    "    \n",
    "    for layer_idx_prev, layer in reversed(list(enumerate(nn_architecture))):\n",
    "        # we number network layers from 1\n",
    "        layer_idx_curr = layer_idx_prev + 1\n",
    "        # extraction of the activation function for the current layer\n",
    "        activ_function_curr = layer[\"activation\"]\n",
    "        \n",
    "        dA_curr = dA_prev\n",
    "        \n",
    "        A_prev = memory[\"A\" + str(layer_idx_prev)]\n",
    "        Z_curr = memory[\"Z\" + str(layer_idx_curr)]\n",
    "        \n",
    "        W_curr = params_values[\"W\" + str(layer_idx_curr)]\n",
    "        b_curr = params_values[\"b\" + str(layer_idx_curr)]\n",
    "        \n",
    "        dA_prev, dW_curr, db_curr = single_layer_backward_propagation(\n",
    "            dA_curr, W_curr, b_curr, Z_curr, A_prev, activ_function_curr)\n",
    "        \n",
    "        grads_values[\"dW\" + str(layer_idx_curr)] = dW_curr\n",
    "        grads_values[\"db\" + str(layer_idx_curr)] = db_curr\n",
    "    \n",
    "    return grads_values"
   ]
  },
  {
   "cell_type": "markdown",
   "metadata": {},
   "source": [
    "## Updating parameter values"
   ]
  },
  {
   "cell_type": "markdown",
   "metadata": {},
   "source": [
    "The goal of this method is to update network parameters using gradient optimisation = taking small steps in the direction along which the gradient is the steepest, to try to bring our output function closer to a minimum. For this we use two dictionaries provided as function arguments: params_values, which stores the current values of parameters, and grads_values, which stores cost function derivatives calculated with respect to these parameters. Then we apply the following simple update step for each layer. This is a very basic and straightforward optimization algorithm, but it's a great starting point for more advanced optimizers, which you can read about elsewhere."
   ]
  },
  {
   "cell_type": "code",
   "execution_count": 12,
   "metadata": {},
   "outputs": [],
   "source": [
    "def update(params_values, grads_values, nn_architecture, learning_rate):\n",
    "\n",
    "    # iteration over network layers\n",
    "    for layer_idx, layer in enumerate(nn_architecture, 1):\n",
    "        params_values[\"W\" + str(layer_idx)] -= learning_rate * grads_values[\"dW\" + str(layer_idx)]        \n",
    "        params_values[\"b\" + str(layer_idx)] -= learning_rate * grads_values[\"db\" + str(layer_idx)]\n",
    "\n",
    "    return params_values;"
   ]
  },
  {
   "cell_type": "markdown",
   "metadata": {},
   "source": [
    "## Putting things together"
   ]
  },
  {
   "cell_type": "code",
   "execution_count": 13,
   "metadata": {},
   "outputs": [],
   "source": [
    "def train(X, Y, nn_architecture, epochs, learning_rate, verbose=0, callback=None, randseed=42):\n",
    "    # initiation of neural net parameters\n",
    "    params_values = init_layers(nn_architecture, randseed)\n",
    "    # initiation of lists storing the history \n",
    "    # of metrics calculated during the learning process \n",
    "    cost_history = []\n",
    "    accuracy_history = []\n",
    "    \n",
    "    # performing calculations for subsequent iterations\n",
    "    for i in range(epochs):\n",
    "        # step forward\n",
    "        Y_hat, cache = full_forward_propagation(X, params_values, nn_architecture)\n",
    "        \n",
    "        # calculating metrics and saving them in history\n",
    "        cost = get_cost_value(Y_hat, Y)\n",
    "        cost_history.append(cost)\n",
    "        accuracy = get_accuracy_value(Y_hat, Y)\n",
    "        accuracy_history.append(accuracy)\n",
    "        \n",
    "        # step backward - calculating gradient\n",
    "        grads_values = full_backward_propagation(Y_hat, Y, cache, params_values, nn_architecture)\n",
    "        # updating model state\n",
    "        params_values = update(params_values, grads_values, nn_architecture, learning_rate)\n",
    "        \n",
    "        if(verbose and i % verbose == 0):\n",
    "            if(verbose):\n",
    "                print(\"Iteration: {:05} - cost: {:.5f} - accuracy: {:.5f}\".format(i, cost, accuracy))\n",
    "                #print(\"Gradient:\", grads_values)\n",
    "                #print(\"Updated params:\", params_values)\n",
    "            if(callback is not None):\n",
    "                callback(i, params_values)\n",
    "            \n",
    "    return params_values"
   ]
  },
  {
   "cell_type": "markdown",
   "metadata": {},
   "source": [
    "### Imports"
   ]
  },
  {
   "cell_type": "code",
   "execution_count": 14,
   "metadata": {},
   "outputs": [],
   "source": [
    "import os"
   ]
  },
  {
   "cell_type": "markdown",
   "metadata": {},
   "source": [
    "### Create artificial dataset"
   ]
  },
  {
   "cell_type": "code",
   "execution_count": 15,
   "metadata": {},
   "outputs": [
    {
     "name": "stdout",
     "output_type": "stream",
     "text": [
      "Input= \n",
      "[[0 0 1 1]\n",
      " [0 1 0 1]]\n",
      "Output= \n",
      " [0 1 1 0]\n"
     ]
    }
   ],
   "source": [
    "XOR = np.array( [\n",
    "    [0, 0, 0],\n",
    "    [0, 1, 1],\n",
    "    [1, 0, 1],\n",
    "    [1, 1, 0]\n",
    "])\n",
    "\n",
    "NAND = np.array( [\n",
    "    [0, 0, 1],\n",
    "    [0, 1, 1],\n",
    "    [1, 0, 1],\n",
    "    [1, 1, 0]\n",
    "])\n",
    "\n",
    "NOR = np.array( [\n",
    "    [0, 0, 1],\n",
    "    [0, 1, 0],\n",
    "    [1, 0, 0],\n",
    "    [1, 1, 0]\n",
    "])\n",
    "\n",
    "# X = XOR[:,0:2]\n",
    "# y = XOR[:,2]\n",
    "# print(y)\n",
    "\n",
    "X = np.array( [\n",
    "    [0, 0],\n",
    "    [0, 1],\n",
    "    [1, 0],\n",
    "    [1, 1]\n",
    "])\n",
    "print(f\"Input= \")\n",
    "print(X.T)\n",
    "\n",
    "y = np.array([0, 1, 1, 0])\n",
    "print(f\"Output= \")\n",
    "print(f\" {y}\")"
   ]
  },
  {
   "cell_type": "code",
   "execution_count": 16,
   "metadata": {},
   "outputs": [
    {
     "data": {
      "text/plain": [
       "(4, 2)"
      ]
     },
     "execution_count": 16,
     "metadata": {},
     "output_type": "execute_result"
    }
   ],
   "source": [
    "X.shape"
   ]
  },
  {
   "cell_type": "code",
   "execution_count": 17,
   "metadata": {},
   "outputs": [
    {
     "data": {
      "text/plain": [
       "(4,)"
      ]
     },
     "execution_count": 17,
     "metadata": {},
     "output_type": "execute_result"
    }
   ],
   "source": [
    "y.shape"
   ]
  },
  {
   "cell_type": "markdown",
   "metadata": {},
   "source": [
    "### Auxiliary plotting function"
   ]
  },
  {
   "cell_type": "code",
   "execution_count": 18,
   "metadata": {},
   "outputs": [],
   "source": [
    "# !pip install seaborn"
   ]
  },
  {
   "cell_type": "code",
   "execution_count": 19,
   "metadata": {},
   "outputs": [],
   "source": [
    "import matplotlib.pyplot as plt\n",
    "import seaborn as sns\n",
    "from matplotlib import cm\n",
    "from mpl_toolkits.mplot3d import Axes3D"
   ]
  },
  {
   "cell_type": "code",
   "execution_count": 20,
   "metadata": {},
   "outputs": [],
   "source": [
    "# this function makes a scatter-plot graph of a dataset\n",
    "def make_plot(X, y, plot_name, file_name=None, XX=None, YY=None, preds=None, dark=False):\n",
    "    if (dark):\n",
    "        plt.style.use('dark_background')\n",
    "    else:\n",
    "        sns.set_style(\"whitegrid\")\n",
    "    plt.figure(figsize=(16,12))\n",
    "    axes = plt.gca()\n",
    "    axes.set(xlabel=\"$X_1$\", ylabel=\"$X_2$\")\n",
    "    plt.title(plot_name, fontsize=30)\n",
    "    plt.subplots_adjust(left=0.20)\n",
    "    plt.subplots_adjust(right=0.80)\n",
    "    if(XX is not None and YY is not None and preds is not None):\n",
    "        plt.contourf(XX, YY, preds.reshape(XX.shape), 25, alpha = 1, cmap=cm.Spectral)\n",
    "        plt.contour(XX, YY, preds.reshape(XX.shape), levels=[.5], cmap=\"Greys\", vmin=0, vmax=.6)\n",
    "    plt.scatter(X[:, 0], X[:, 1], c=y.ravel(), s=40, cmap=plt.cm.Spectral, edgecolors='black')\n",
    "    if(file_name):\n",
    "        plt.savefig(file_name)\n",
    "        plt.close()"
   ]
  },
  {
   "cell_type": "markdown",
   "metadata": {},
   "source": [
    "### Visualization of the data set"
   ]
  },
  {
   "cell_type": "code",
   "execution_count": 21,
   "metadata": {},
   "outputs": [
    {
     "data": {
      "image/png": "[encoded data removed]",
      "text/plain": [
       "<Figure size 1152x864 with 1 Axes>"
      ]
     },
     "metadata": {},
     "output_type": "display_data"
    }
   ],
   "source": [
    "make_plot(X, y, \"Dataset\")"
   ]
  },
  {
   "cell_type": "markdown",
   "metadata": {},
   "source": [
    "### Let's put our model to the test"
   ]
  },
  {
   "cell_type": "code",
   "execution_count": 22,
   "metadata": {},
   "outputs": [
    {
     "name": "stdout",
     "output_type": "stream",
     "text": [
      "[[0 0]\n",
      " [0 1]\n",
      " [1 0]\n",
      " [1 1]] (4, 2)\n",
      "[0 1 1 0] (4,)\n"
     ]
    }
   ],
   "source": [
    "# Training  - for our trivial dataset, train on all the data (all 4 datapoints :-)\n",
    "X_train = X\n",
    "X_test = X\n",
    "y_train = y\n",
    "y_test = y\n",
    "print(X_train, X_train.shape)\n",
    "print(y_train, y_train.shape)\n"
   ]
  },
  {
   "cell_type": "code",
   "execution_count": 23,
   "metadata": {},
   "outputs": [
    {
     "name": "stdout",
     "output_type": "stream",
     "text": [
      "initial param values = {'W1': array([[-0.04167578, -0.00562668],\n",
      "       [-0.21361961,  0.16402708]]), 'b1': array([[-0.],\n",
      "       [-0.]]), 'W2': array([[ 0.05028814, -0.12452881]]), 'b2': array([[-0.]])}\n",
      "Iteration: 00000 - cost: 0.69332 - accuracy: 0.50000\n",
      "Iteration: 01000 - cost: 0.69315 - accuracy: 0.50000\n",
      "Iteration: 02000 - cost: 0.69315 - accuracy: 0.50000\n",
      "Iteration: 03000 - cost: 0.69315 - accuracy: 0.50000\n",
      "Iteration: 04000 - cost: 0.69314 - accuracy: 0.50000\n",
      "Iteration: 05000 - cost: 0.69314 - accuracy: 0.50000\n",
      "Iteration: 06000 - cost: 0.69314 - accuracy: 0.50000\n",
      "Iteration: 07000 - cost: 0.69314 - accuracy: 0.50000\n",
      "Iteration: 08000 - cost: 0.69313 - accuracy: 0.50000\n",
      "Iteration: 09000 - cost: 0.69311 - accuracy: 0.50000\n",
      "Iteration: 10000 - cost: 0.69304 - accuracy: 0.50000\n",
      "Iteration: 11000 - cost: 0.69252 - accuracy: 0.50000\n",
      "Iteration: 12000 - cost: 0.62317 - accuracy: 0.75000\n",
      "Iteration: 13000 - cost: 0.05458 - accuracy: 1.00000\n",
      "Iteration: 14000 - cost: 0.02095 - accuracy: 1.00000\n",
      "Iteration: 15000 - cost: 0.01274 - accuracy: 1.00000\n",
      "Iteration: 16000 - cost: 0.00911 - accuracy: 1.00000\n",
      "Iteration: 17000 - cost: 0.00707 - accuracy: 1.00000\n",
      "Iteration: 18000 - cost: 0.00577 - accuracy: 1.00000\n",
      "Iteration: 19000 - cost: 0.00487 - accuracy: 1.00000\n",
      "Iteration: 20000 - cost: 0.00421 - accuracy: 1.00000\n",
      "Iteration: 21000 - cost: 0.00371 - accuracy: 1.00000\n",
      "Iteration: 22000 - cost: 0.00332 - accuracy: 1.00000\n",
      "Iteration: 23000 - cost: 0.00299 - accuracy: 1.00000\n",
      "Iteration: 24000 - cost: 0.00273 - accuracy: 1.00000\n",
      "Iteration: 25000 - cost: 0.00251 - accuracy: 1.00000\n",
      "Iteration: 26000 - cost: 0.00232 - accuracy: 1.00000\n",
      "Iteration: 27000 - cost: 0.00216 - accuracy: 1.00000\n",
      "Iteration: 28000 - cost: 0.00202 - accuracy: 1.00000\n",
      "Iteration: 29000 - cost: 0.00189 - accuracy: 1.00000\n",
      "Iteration: 30000 - cost: 0.00178 - accuracy: 1.00000\n",
      "Iteration: 31000 - cost: 0.00168 - accuracy: 1.00000\n",
      "Iteration: 32000 - cost: 0.00160 - accuracy: 1.00000\n",
      "Iteration: 33000 - cost: 0.00152 - accuracy: 1.00000\n",
      "Iteration: 34000 - cost: 0.00145 - accuracy: 1.00000\n",
      "Iteration: 35000 - cost: 0.00138 - accuracy: 1.00000\n",
      "Iteration: 36000 - cost: 0.00132 - accuracy: 1.00000\n",
      "Iteration: 37000 - cost: 0.00127 - accuracy: 1.00000\n",
      "Iteration: 38000 - cost: 0.00122 - accuracy: 1.00000\n",
      "Iteration: 39000 - cost: 0.00117 - accuracy: 1.00000\n",
      "Iteration: 40000 - cost: 0.00113 - accuracy: 1.00000\n",
      "Iteration: 41000 - cost: 0.00109 - accuracy: 1.00000\n",
      "Iteration: 42000 - cost: 0.00105 - accuracy: 1.00000\n",
      "Iteration: 43000 - cost: 0.00102 - accuracy: 1.00000\n",
      "Iteration: 44000 - cost: 0.00098 - accuracy: 1.00000\n",
      "Iteration: 45000 - cost: 0.00095 - accuracy: 1.00000\n",
      "Iteration: 46000 - cost: 0.00092 - accuracy: 1.00000\n",
      "Iteration: 47000 - cost: 0.00090 - accuracy: 1.00000\n",
      "Iteration: 48000 - cost: 0.00087 - accuracy: 1.00000\n",
      "Iteration: 49000 - cost: 0.00085 - accuracy: 1.00000\n",
      "Iteration: 50000 - cost: 0.00082 - accuracy: 1.00000\n",
      "Iteration: 51000 - cost: 0.00080 - accuracy: 1.00000\n",
      "Iteration: 52000 - cost: 0.00078 - accuracy: 1.00000\n",
      "Iteration: 53000 - cost: 0.00076 - accuracy: 1.00000\n",
      "Iteration: 54000 - cost: 0.00074 - accuracy: 1.00000\n",
      "Iteration: 55000 - cost: 0.00073 - accuracy: 1.00000\n",
      "Iteration: 56000 - cost: 0.00071 - accuracy: 1.00000\n",
      "Iteration: 57000 - cost: 0.00069 - accuracy: 1.00000\n",
      "Iteration: 58000 - cost: 0.00068 - accuracy: 1.00000\n",
      "Iteration: 59000 - cost: 0.00066 - accuracy: 1.00000\n",
      "{'W1': array([[-7.64633548,  7.37139063],\n",
      "       [-7.88028304,  8.10716963]]), 'b1': array([[-3.875407  ],\n",
      "       [ 3.93637049]]), 'W2': array([[ 15.93127155, -15.35848739]]), 'b2': array([[7.35285539]])}\n"
     ]
    }
   ],
   "source": [
    "optimized_params = train(np.transpose(X_train), np.transpose(y_train.reshape((y_train.shape[0], 1))),\n",
    "                         NN_ARCHITECTURE, 60000, 0.3, verbose=1000, randseed=2)\n",
    "print(optimized_params)"
   ]
  },
  {
   "cell_type": "code",
   "execution_count": 24,
   "metadata": {},
   "outputs": [],
   "source": [
    "# Prediction\n",
    "Y_test_hat, _ = full_forward_propagation(np.transpose(X_test), optimized_params, NN_ARCHITECTURE)"
   ]
  },
  {
   "cell_type": "code",
   "execution_count": 25,
   "metadata": {},
   "outputs": [
    {
     "name": "stdout",
     "output_type": "stream",
     "text": [
      "[[6.18373700e-04 9.99422904e-01 9.99142935e-01 5.40109066e-04]]\n"
     ]
    }
   ],
   "source": [
    "print(Y_test_hat)"
   ]
  },
  {
   "cell_type": "code",
   "execution_count": 33,
   "metadata": {},
   "outputs": [
    {
     "name": "stdout",
     "output_type": "stream",
     "text": [
      "Test set accuracy: 1.00\n"
     ]
    }
   ],
   "source": [
    "# Accuracy achieved on the test set\n",
    "acc_test = get_accuracy_value(Y_test_hat, np.transpose(y_test.reshape((y_test.shape[0], 1))))\n",
    "print(\"Test set accuracy: {:.2f}\".format(acc_test))"
   ]
  },
  {
   "cell_type": "markdown",
   "metadata": {},
   "source": [
    "## Visualisation of the learning process"
   ]
  },
  {
   "cell_type": "markdown",
   "metadata": {},
   "source": [
    "### Settings"
   ]
  },
  {
   "cell_type": "code",
   "execution_count": 27,
   "metadata": {},
   "outputs": [],
   "source": [
    "# boundary of the graph\n",
    "GRID_X_START = -1.5\n",
    "GRID_X_END = 2.5\n",
    "GRID_Y_START = -1.0\n",
    "GRID_Y_END = 2\n",
    "# output directory (the folder must be created on the drive)\n",
    "OUTPUT_DIR = \"./binary_classification_vizualizations/\""
   ]
  },
  {
   "cell_type": "markdown",
   "metadata": {},
   "source": [
    "### Definition of grid boundaries"
   ]
  },
  {
   "cell_type": "code",
   "execution_count": 28,
   "metadata": {},
   "outputs": [],
   "source": [
    "grid = np.mgrid[GRID_X_START:GRID_X_END:100j,GRID_X_START:GRID_Y_END:100j]\n",
    "grid_2d = grid.reshape(2, -1).T\n",
    "XX, YY = grid"
   ]
  },
  {
   "cell_type": "markdown",
   "metadata": {},
   "source": [
    "### NumPy callback"
   ]
  },
  {
   "cell_type": "code",
   "execution_count": 29,
   "metadata": {},
   "outputs": [],
   "source": [
    "def callback_numpy_plot(index, params):\n",
    "    plot_title = \"NumPy Model - It: {:05}\".format(index)\n",
    "    file_name = \"numpy_model_{:05}.png\".format(index//50)\n",
    "    file_path = os.path.join(OUTPUT_DIR, file_name)\n",
    "    prediction_probs, _ = full_forward_propagation(np.transpose(grid_2d), params, NN_ARCHITECTURE)\n",
    "    prediction_probs = prediction_probs.reshape(prediction_probs.shape[1], 1)\n",
    "    make_plot(X_test, y_test, plot_title, file_name=file_path, XX=XX, YY=YY, preds=prediction_probs, dark=True)"
   ]
  },
  {
   "cell_type": "code",
   "execution_count": 30,
   "metadata": {},
   "outputs": [
    {
     "name": "stdout",
     "output_type": "stream",
     "text": [
      "initial param values = {'W1': array([[ 0.04967142, -0.01382643],\n",
      "       [ 0.06476885,  0.15230299]]), 'b1': array([[-0.],\n",
      "       [-0.]]), 'W2': array([[0.15792128, 0.07674347]]), 'b2': array([[-0.]])}\n",
      "Iteration: 00000 - cost: 0.69495 - accuracy: 0.50000\n"
     ]
    },
    {
     "name": "stderr",
     "output_type": "stream",
     "text": [
      "/opt/anaconda3/lib/python3.7/site-packages/ipykernel_launcher.py:15: UserWarning: No contour levels were found within the data range.\n",
      "  from ipykernel import kernelapp as app\n"
     ]
    },
    {
     "name": "stdout",
     "output_type": "stream",
     "text": [
      "Iteration: 00500 - cost: 0.69315 - accuracy: 0.50000\n",
      "Iteration: 01000 - cost: 0.69315 - accuracy: 0.50000\n",
      "Iteration: 01500 - cost: 0.69315 - accuracy: 0.50000\n",
      "Iteration: 02000 - cost: 0.69315 - accuracy: 0.50000\n",
      "Iteration: 02500 - cost: 0.69315 - accuracy: 0.50000\n",
      "Iteration: 03000 - cost: 0.69315 - accuracy: 0.50000\n",
      "Iteration: 03500 - cost: 0.69315 - accuracy: 0.50000\n",
      "Iteration: 04000 - cost: 0.69314 - accuracy: 0.50000\n",
      "Iteration: 04500 - cost: 0.69314 - accuracy: 0.50000\n",
      "Iteration: 05000 - cost: 0.69314 - accuracy: 0.75000\n",
      "Iteration: 05500 - cost: 0.69314 - accuracy: 0.75000\n",
      "Iteration: 06000 - cost: 0.69313 - accuracy: 0.75000\n",
      "Iteration: 06500 - cost: 0.69312 - accuracy: 0.75000\n",
      "Iteration: 07000 - cost: 0.69307 - accuracy: 0.75000\n",
      "Iteration: 07500 - cost: 0.69260 - accuracy: 0.75000\n",
      "Iteration: 08000 - cost: 0.64715 - accuracy: 0.75000\n",
      "Iteration: 08500 - cost: 0.18180 - accuracy: 1.00000\n",
      "Iteration: 09000 - cost: 0.03736 - accuracy: 1.00000\n",
      "Iteration: 09500 - cost: 0.01954 - accuracy: 1.00000\n",
      "Iteration: 10000 - cost: 0.01309 - accuracy: 1.00000\n",
      "Iteration: 10500 - cost: 0.00980 - accuracy: 1.00000\n",
      "Iteration: 11000 - cost: 0.00781 - accuracy: 1.00000\n",
      "Iteration: 11500 - cost: 0.00649 - accuracy: 1.00000\n",
      "Iteration: 12000 - cost: 0.00555 - accuracy: 1.00000\n",
      "Iteration: 12500 - cost: 0.00484 - accuracy: 1.00000\n",
      "Iteration: 13000 - cost: 0.00429 - accuracy: 1.00000\n",
      "Iteration: 13500 - cost: 0.00385 - accuracy: 1.00000\n",
      "Iteration: 14000 - cost: 0.00349 - accuracy: 1.00000\n",
      "Iteration: 14500 - cost: 0.00320 - accuracy: 1.00000\n",
      "Iteration: 15000 - cost: 0.00295 - accuracy: 1.00000\n",
      "Iteration: 15500 - cost: 0.00273 - accuracy: 1.00000\n",
      "Iteration: 16000 - cost: 0.00255 - accuracy: 1.00000\n",
      "Iteration: 16500 - cost: 0.00238 - accuracy: 1.00000\n",
      "Iteration: 17000 - cost: 0.00224 - accuracy: 1.00000\n",
      "Iteration: 17500 - cost: 0.00211 - accuracy: 1.00000\n",
      "Iteration: 18000 - cost: 0.00200 - accuracy: 1.00000\n",
      "Iteration: 18500 - cost: 0.00190 - accuracy: 1.00000\n",
      "Iteration: 19000 - cost: 0.00181 - accuracy: 1.00000\n",
      "Iteration: 19500 - cost: 0.00172 - accuracy: 1.00000\n",
      "{'W1': array([[5.90915127, 5.9090046 ],\n",
      "       [7.68929581, 7.68851964]]), 'b1': array([[-9.03176529],\n",
      "       [-3.54230779]]), 'W2': array([[-14.69059132,  13.90543041]]), 'b2': array([[-6.55264947]])}\n"
     ]
    }
   ],
   "source": [
    "# Training\n",
    "params_optimized = train(np.transpose(X_train), np.transpose(y_train.reshape((y_train.shape[0], 1))),\n",
    "                         NN_ARCHITECTURE, 20000, 0.5,\n",
    "                         verbose=500, \n",
    "                        callback=callback_numpy_plot, randseed=42)\n",
    "print(params_optimized)"
   ]
  },
  {
   "cell_type": "code",
   "execution_count": 31,
   "metadata": {},
   "outputs": [
    {
     "data": {
      "image/png": "[encoded data removed]",
      "text/plain": [
       "<Figure size 1152x864 with 1 Axes>"
      ]
     },
     "metadata": {},
     "output_type": "display_data"
    }
   ],
   "source": [
    "prediction_probs_numpy, _ = full_forward_propagation(np.transpose(grid_2d), params_optimized, NN_ARCHITECTURE)\n",
    "#print(prediction_probs_numpy)\n",
    "prediction_probs_numpy = prediction_probs_numpy.reshape(prediction_probs_numpy.shape[1], 1)\n",
    "make_plot(X_test, y_test, \"NumPy Model\", file_name=None, XX=XX, YY=YY, preds=prediction_probs_numpy)\n"
   ]
  },
  {
   "cell_type": "code",
   "execution_count": null,
   "metadata": {},
   "outputs": [],
   "source": []
  }
 ],
 "metadata": {
  "kernelspec": {
   "display_name": "Python 3",
   "language": "python",
   "name": "python3"
  },
  "language_info": {
   "codemirror_mode": {
    "name": "ipython",
    "version": 3
   },
   "file_extension": ".py",
   "mimetype": "text/x-python",
   "name": "python",
   "nbconvert_exporter": "python",
   "pygments_lexer": "ipython3",
   "version": "3.7.6"
  }
 },
 "nbformat": 4,
 "nbformat_minor": 4
}
